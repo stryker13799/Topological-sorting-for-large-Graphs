{
 "cells": [
  {
   "cell_type": "code",
   "execution_count": 1,
   "metadata": {},
   "outputs": [],
   "source": [
    "import numpy as np\n",
    "from collections import deque\n",
    "\n",
    "GRAY, BLACK = 0, 1"
   ]
  },
  {
   "cell_type": "code",
   "execution_count": 2,
   "metadata": {},
   "outputs": [],
   "source": [
    "#################################### UTILITY FUNCTIONS #########################################################3\n",
    "\n",
    "class edge:\n",
    "    def __init__(self,fro,to,rank=0,order='f',visit=False):\n",
    "        self.fro=fro\n",
    "        self.to=to\n",
    "        self.rank=rank\n",
    "        self.order=order\n",
    "        self.visit=False\n",
    "\n",
    "def num_edges(graph):\n",
    "    sum=0\n",
    "    for x in graph.values():\n",
    "        sum+=len(x)\n",
    "    return sum\n",
    "\n",
    "def create_edges(graph):\n",
    "    ed=[]\n",
    "    for x in graph.keys():\n",
    "        for y in graph[x]:\n",
    "            e=edge(x,y)\n",
    "            ed.append(e)\n",
    "            \n",
    "    return ed\n",
    "\n",
    "def sorting_edges(ed):\n",
    "    \n",
    "    for i in range(len(ed)):\n",
    "        for j in range(i+1,len(ed)):\n",
    "            if ed[i].to > ed[j].to:\n",
    "                ed[i],ed[j]=ed[j],ed[i]\n",
    "            \n",
    "    return ed\n",
    "\n",
    "def edgess(ed,to,fro):\n",
    "    for x in ed:\n",
    "        if x.to == to and x.fro == fro:\n",
    "            return False\n",
    "    return True\n",
    "\n",
    "def add_reverse_edges(T,ed):\n",
    "    ed=[]\n",
    "    \n",
    "    vertices=list(T.keys())\n",
    "    for x in range(len(vertices)):\n",
    "        l=vertices[x]\n",
    "        for y in T[l]:\n",
    "            if edgess(ed,y,l):\n",
    "                ed.append(edge(y,l,order='b')) \n",
    "\n",
    "                if y not in T:\n",
    "                    T[y]=[l]\n",
    "                else:\n",
    "                    T[y].append(l)\n",
    "    return ed,T\n",
    "\n",
    "def visited(ed,to,fro):\n",
    "    for x in ed:\n",
    "        if x.to == to and x.fro == fro:\n",
    "            return x.visit\n",
    "\n",
    "def add_rank(ed,to,fro,rank):\n",
    "    for x in ed:\n",
    "        if x.to == to and x.fro == fro:\n",
    "            x.visit=True\n",
    "            x.rank=rank\n",
    "\n",
    "def sorting_edges_by_rank(ed):\n",
    "    \n",
    "    for i in range(len(ed)):\n",
    "        for j in range(i+1,len(ed)):\n",
    "            if ed[i].rank > ed[j].rank:\n",
    "                ed[i],ed[j]=ed[j],ed[i]\n",
    "            \n",
    "    return ed\n",
    "\n",
    "def eller(root,adjancey,edd,rank):\n",
    "    for x in adjancey[root]:\n",
    "        if not visited(edd,x,root):\n",
    "            add_rank(edd,x,root,rank)\n",
    "            rank=rank+1\n",
    "            eller(x,adjancey,edd,rank)\n",
    "    return None\n",
    "\n",
    "def satisfiededges(graph,v):\n",
    "    g1={}\n",
    "    m=0\n",
    "    for x in graph:\n",
    "        try:\n",
    "            l=v[x]\n",
    "            for y in graph[x]:\n",
    "                o=v[y]\n",
    "                if l < o:\n",
    "                    m+=1\n",
    "        except:\n",
    "            None\n",
    "    return m          "
   ]
  },
  {
   "cell_type": "code",
   "execution_count": 3,
   "metadata": {},
   "outputs": [],
   "source": [
    "def OutTree(graph):\n",
    "    vertices=sorted(list(graph.keys()))\n",
    "    \n",
    "    ed=create_edges(graph)\n",
    "    \n",
    "    ed=sorting_edges(ed)\n",
    "    T={}\n",
    "    s=vertices[0]\n",
    "    v=vertices[0]\n",
    "    i=0\n",
    "    for edd in ed:\n",
    "        x=edd.fro\n",
    "        y=edd.to\n",
    "        \n",
    "        if y > v:\n",
    "            if x not in T.keys():\n",
    "                T[x]=[y]\n",
    "            else:\n",
    "                T[x].append(y)\n",
    "\n",
    "            while v < y:\n",
    "                \n",
    "                i=i+1\n",
    "                if i< len(vertices):\n",
    "                    v=vertices[i]\n",
    "                    if v < y:\n",
    "                        if s ==1:\n",
    "                            s=v\n",
    "                        else:\n",
    "                            if s not in T.keys():\n",
    "                                T[s]=[v]\n",
    "                            else:\n",
    "                                T[s].append(v)\n",
    "    return T,s\n",
    "    \n",
    "    "
   ]
  },
  {
   "cell_type": "code",
   "execution_count": 4,
   "metadata": {},
   "outputs": [],
   "source": [
    "def EulerTour(T,root):\n",
    "    ed=create_edges(T)\n",
    "    ed1,T=add_reverse_edges(T,ed)\n",
    "    ed.extend(ed1)\n",
    "    rank=1\n",
    "    try:\n",
    "        eller(root,T,ed,rank)\n",
    "    except:\n",
    "        None\n",
    "    ed=sorting_edges_by_rank(ed)\n",
    "    \n",
    "    return ed\n",
    "    "
   ]
  },
  {
   "cell_type": "code",
   "execution_count": 5,
   "metadata": {},
   "outputs": [],
   "source": [
    "def PreOrderNumberings(edges,s,graph): \n",
    "    Nl={s:1}\n",
    "    Nr={s:1}\n",
    "    l=2\n",
    "    r=len(graph.keys())\n",
    "    \n",
    "    for ed in edges:\n",
    "        if ed.order =='f':\n",
    "            Nl[ed.to]=l\n",
    "            l=l+1\n",
    "        else:\n",
    "            Nr[ed.fro]=r\n",
    "            r=r-1\n",
    "    return Nl,Nr\n",
    "    "
   ]
  },
  {
   "cell_type": "code",
   "execution_count": 6,
   "metadata": {},
   "outputs": [],
   "source": [
    "def InitialNumbering(graph):\n",
    "    T,s=OutTree(graph)\n",
    "    L=EulerTour(T,s)\n",
    "    vl,vr=PreOrderNumberings(L,s,graph)\n",
    "    ml=satisfiededges(graph,vl)\n",
    "    mr=satisfiededges(graph,vr)\n",
    "    if ml > mr:\n",
    "       return (vl,ml)\n",
    "    else:\n",
    "       return (vr,mr)"
   ]
  },
  {
   "cell_type": "code",
   "execution_count": 7,
   "metadata": {},
   "outputs": [],
   "source": [
    "def Staisfygraphedges(G,v):\n",
    "    a = {k: v for k, v in sorted(G.items(), key=lambda item: item[1])}\n",
    "    return a"
   ]
  },
  {
   "cell_type": "code",
   "execution_count": 8,
   "metadata": {},
   "outputs": [],
   "source": [
    "def MAXIMALLYVIOLATEDOUTTREE(G, v):\n",
    "    Queue = []\n",
    "    start = 0\n",
    "    for i in G:\n",
    "        try:\n",
    "            if(G[i]>G[i+1]):\n",
    "                start = i\n",
    "                break\n",
    "        except:\n",
    "            pass\n",
    "        \n",
    "    T = {}\n",
    "    nx = False;\n",
    "    for i in G:  \n",
    "        if(start == i):\n",
    "            nx = True\n",
    "        if(nx == True):\n",
    "            T[i]=G[i]\n",
    "                \n",
    "    return T,start"
   ]
  },
  {
   "cell_type": "code",
   "execution_count": 9,
   "metadata": {},
   "outputs": [],
   "source": [
    "def satisfylocaledges(graph,v):\n",
    "    order, enter, state = deque(), set(graph), {}\n",
    "\n",
    "    def checkedges(node):\n",
    "        state[node] = GRAY\n",
    "        for k in graph.get(node, ()):\n",
    "            sk = state.get(k, None)\n",
    "            if sk == GRAY: raise ValueError(\"cycle\")\n",
    "            if sk == BLACK: continue\n",
    "            enter.discard(k)\n",
    "            checkedges(k)\n",
    "        order.appendleft(node)\n",
    "        state[node] = BLACK\n",
    "\n",
    "    while enter: checkedges(enter.pop())\n",
    "    return list(order)"
   ]
  },
  {
   "cell_type": "code",
   "execution_count": 10,
   "metadata": {},
   "outputs": [],
   "source": [
    "def SATISFYPREVIOUSLYSATISFIEDEDGES(t,G,v):\n",
    "    g = {}\n",
    "    for i in G:\n",
    "        if(v > i):\n",
    "            g[i] = G[i]\n",
    "            break\n",
    "        \n",
    "    for i in t:\n",
    "        g[i]=t[i]\n",
    "    return g,v"
   ]
  },
  {
   "cell_type": "code",
   "execution_count": 11,
   "metadata": {},
   "outputs": [],
   "source": [
    "def IMPROVENUMBERING(G,v):\n",
    "    T,v1 = MAXIMALLYVIOLATEDOUTTREE(G,v)\n",
    "    T = Staisfygraphedges(T,v1)\n",
    "    a,v2 = SATISFYPREVIOUSLYSATISFIEDEDGES(T,G,v)\n",
    "    return a,v+1"
   ]
  },
  {
   "cell_type": "code",
   "execution_count": 35,
   "metadata": {},
   "outputs": [],
   "source": [
    "def iterTS(graph):\n",
    "    m=num_edges(graph)\n",
    "    v,ms= InitialNumbering(graph)\n",
    "    while ms < m:\n",
    "        v, ms = IMPROVENUMBERING(graph,ms)\n",
    "    v= Staisfygraphedges(v,ms)\n",
    "    g = satisfylocaledges(graph,v)\n",
    "    return g"
   ]
  },
  {
   "cell_type": "code",
   "execution_count": 36,
   "metadata": {},
   "outputs": [],
   "source": [
    "def append_value(dict_obj, key, value):\n",
    "    # Check if key exist in dict or not\n",
    "    if key in dict_obj:\n",
    "        if not isinstance(dict_obj[key], list):\n",
    "            dict_obj[key] = [dict_obj[key]]\n",
    "        dict_obj[key].append(value)\n",
    "    else:\n",
    "        dict_obj[key] = [value]"
   ]
  },
  {
   "cell_type": "markdown",
   "metadata": {},
   "source": [
    "![Direct Acyclic Graph](dag.png)"
   ]
  },
  {
   "cell_type": "code",
   "execution_count": 37,
   "metadata": {},
   "outputs": [],
   "source": [
    "# ############ TEST GRAPH ##########################333\n",
    "graph={1:[2,3],2:[4,5],3:[6],4:[7],5:[7],6:[5,7],7:[]}\n",
    "graph1={0:[],1:[],2:[3],3:[1],4:[0,1],5:[0,2]}\n",
    "graph3={0:[1,2],1:[2,5],2:[3],3:[],4:[],5:[3,4],6:[1,5]}"
   ]
  },
  {
   "cell_type": "code",
   "execution_count": null,
   "metadata": {},
   "outputs": [],
   "source": []
  },
  {
   "cell_type": "code",
   "execution_count": 38,
   "metadata": {},
   "outputs": [],
   "source": [
    "def file(name):\n",
    "    graph={}\n",
    "    temp=open(name)\n",
    "    line=temp.readlines()\n",
    "    graph={}\n",
    "    for i in line:\n",
    "        i=i.strip()\n",
    "        data=i.split('  ')\n",
    "        append_value(graph,int(data[0]),int(data[1]))\n",
    "    return graph"
   ]
  },
  {
   "cell_type": "code",
   "execution_count": 39,
   "metadata": {},
   "outputs": [],
   "source": [
    "graph4 = file('file-1.txt') "
   ]
  },
  {
   "cell_type": "code",
   "execution_count": 53,
   "metadata": {},
   "outputs": [],
   "source": [
    "graph5 = file('graph0-WikiVote.txt') "
   ]
  },
  {
   "cell_type": "code",
   "execution_count": 60,
   "metadata": {},
   "outputs": [],
   "source": [
    "graph6 = file('graph1-WikiTalk.txt')"
   ]
  },
  {
   "cell_type": "code",
   "execution_count": 44,
   "metadata": {},
   "outputs": [],
   "source": [
    "import time"
   ]
  },
  {
   "cell_type": "code",
   "execution_count": 45,
   "metadata": {},
   "outputs": [],
   "source": [
    "times = []\n",
    "start_time = time.time()\n",
    "v1 = iterTS(graph)\n",
    "times.append(time.time() - start_time)\n",
    "start_time = time.time()"
   ]
  },
  {
   "cell_type": "code",
   "execution_count": 46,
   "metadata": {},
   "outputs": [],
   "source": [
    "v2 = iterTS(graph1)\n",
    "times.append(time.time() - start_time)\n",
    "start_time = time.time()"
   ]
  },
  {
   "cell_type": "code",
   "execution_count": 47,
   "metadata": {},
   "outputs": [],
   "source": [
    "v3 = iterTS(graph3)\n",
    "times.append(time.time() - start_time)\n",
    "start_time = time.time()\n"
   ]
  },
  {
   "cell_type": "code",
   "execution_count": 48,
   "metadata": {},
   "outputs": [],
   "source": [
    "v4 = iterTS(graph4)\n",
    "times.append(time.time() - start_time)\n",
    "start_time = time.time()\n"
   ]
  },
  {
   "cell_type": "code",
   "execution_count": 54,
   "metadata": {},
   "outputs": [],
   "source": [
    "v5 = iterTS(graph5)\n",
    "times.append(time.time() - start_time)\n",
    "start_time = time.time()\n"
   ]
  },
  {
   "cell_type": "code",
   "execution_count": 61,
   "metadata": {},
   "outputs": [],
   "source": [
    "v6 = iterTS(graph6)\n",
    "times.append(time.time() - start_time)\n",
    "start_time = time.time()\n"
   ]
  },
  {
   "cell_type": "code",
   "execution_count": 76,
   "metadata": {},
   "outputs": [],
   "source": [
    "number_of_node = [6*9,5*6,8*9,2000+10203,7115+103689,21000+311067]"
   ]
  },
  {
   "cell_type": "code",
   "execution_count": 79,
   "metadata": {
    "scrolled": true
   },
   "outputs": [
    {
     "data": {
      "image/png": "[encoded data removed]",
      "text/plain": [
       "<Figure size 640x480 with 1 Axes>"
      ]
     },
     "metadata": {
      "needs_background": "light"
     },
     "output_type": "display_data"
    }
   ],
   "source": [
    "import matplotlib.pyplot as plt\n",
    "from matplotlib.pyplot import figure\n",
    "\n",
    "figure(figsize=(8, 6), dpi=80)\n",
    "   \n",
    "plt.plot(number_of_node, times, color='red', marker='o')\n",
    "plt.title('Topological Sort', fontsize=14)\n",
    "plt.xlabel('Node + Edges', fontsize=14)\n",
    "plt.ylabel('Time in Seconds', fontsize=14)\n",
    "plt.grid(True)\n",
    "plt.show()"
   ]
  },
  {
   "cell_type": "code",
   "execution_count": 85,
   "metadata": {},
   "outputs": [],
   "source": [
    "import json\n",
    "\n",
    "with open('data4.txt', 'w') as f:\n",
    "    for i in v4:\n",
    "        f.write(str(i)+'\\n')\n",
    "with open('data5.txt', 'w') as f:\n",
    "    for i in v5:\n",
    "        f.write(str(i)+'\\n')\n",
    "with open('data6.txt', 'w') as f:\n",
    "    for i in v6:\n",
    "        f.write(str(i)+'\\n')"
   ]
  },
  {
   "cell_type": "code",
   "execution_count": null,
   "metadata": {},
   "outputs": [],
   "source": []
  }
 ],
 "metadata": {
  "kernelspec": {
   "display_name": "Python 3",
   "language": "python",
   "name": "python3"
  },
  "language_info": {
   "codemirror_mode": {
    "name": "ipython",
    "version": 3
   },
   "file_extension": ".py",
   "mimetype": "text/x-python",
   "name": "python",
   "nbconvert_exporter": "python",
   "pygments_lexer": "ipython3",
   "version": "3.8.5"
  }
 },
 "nbformat": 4,
 "nbformat_minor": 4
}
