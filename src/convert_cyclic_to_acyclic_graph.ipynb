{
 "cells": [
  {
   "cell_type": "code",
   "execution_count": 118,
   "metadata": {},
   "outputs": [],
   "source": [
    "import networkx as nx"
   ]
  },
  {
   "cell_type": "code",
   "execution_count": 119,
   "metadata": {},
   "outputs": [],
   "source": [
    "def create_graph_from_file(filename):\n",
    "    g = nx.read_edgelist(filename,create_using=nx.DiGraph(), nodetype = int)\n",
    "    return g\n",
    "\n",
    "def check_if_acyclic(g):\n",
    "    return nx.is_directed_acyclic_graph(g)\n",
    "\n",
    "def MST(g): #gives undirected graph as output\n",
    "    return nx.algorithms.minimum_spanning_tree( g.to_undirected())\n",
    "    \n",
    "def undirected_to_directed(g,T): #takes original graph and MST as input, and stores directed edges in file\n",
    "        E = set(T.edges())\n",
    "        [e for e in g.edges() if e in E or reversed(e) in E]\n",
    "        with open(\"file.txt\", \"w\") as output:\n",
    "            for i in E:\n",
    "                x=str(i)\n",
    "                x=x.strip()\n",
    "                x=x.split(',')\n",
    "                index=x[1].rindex(')')\n",
    "                #print(x[0][1:],x[1][0:index])\n",
    "                output.write(x[0][1:])\n",
    "                output.write(\" \")\n",
    "                output.write(x[1][0:index])\n",
    "                output.write(\"\\n\")"
   ]
  },
  {
   "cell_type": "code",
   "execution_count": 120,
   "metadata": {},
   "outputs": [
    {
     "data": {
      "text/plain": [
       "False"
      ]
     },
     "execution_count": 120,
     "metadata": {},
     "output_type": "execute_result"
    }
   ],
   "source": [
    "G=create_graph_from_file(\"Wiki-Vote.txt\")\n",
    "check_if_acyclic(G)"
   ]
  },
  {
   "cell_type": "code",
   "execution_count": 121,
   "metadata": {},
   "outputs": [
    {
     "data": {
      "text/plain": [
       "True"
      ]
     },
     "execution_count": 121,
     "metadata": {},
     "output_type": "execute_result"
    }
   ],
   "source": [
    "T=MST(G)\n",
    "undirected_to_directed(G,T)\n",
    "G2=create_graph_from_file(\"file.txt\")\n",
    "check_if_acyclic(G2)"
   ]
  },
  {
   "cell_type": "code",
   "execution_count": null,
   "metadata": {},
   "outputs": [],
   "source": []
  }
 ],
 "metadata": {
  "kernelspec": {
   "display_name": "Python 3",
   "language": "python",
   "name": "python3"
  },
  "language_info": {
   "codemirror_mode": {
    "name": "ipython",
    "version": 3
   },
   "file_extension": ".py",
   "mimetype": "text/x-python",
   "name": "python",
   "nbconvert_exporter": "python",
   "pygments_lexer": "ipython3",
   "version": "3.8.3"
  }
 },
 "nbformat": 4,
 "nbformat_minor": 4
}
